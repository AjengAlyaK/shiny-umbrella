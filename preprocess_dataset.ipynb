{
 "cells": [
  {
   "cell_type": "markdown",
   "metadata": {},
   "source": [
    "Preprocessing : lowercasing, expand repeated words, slang normalization"
   ]
  },
  {
   "cell_type": "markdown",
   "metadata": {},
   "source": [
    "### Load Dataset"
   ]
  },
  {
   "cell_type": "code",
   "execution_count": 6,
   "metadata": {},
   "outputs": [],
   "source": [
    "import pandas as pd\n",
    "import matplotlib.pyplot as plt\n",
    "import seaborn as sns"
   ]
  },
  {
   "cell_type": "code",
   "execution_count": 2,
   "metadata": {},
   "outputs": [],
   "source": [
    "df = pd.read_excel('./Dataset/dataset_sarkasme.xlsx')"
   ]
  },
  {
   "cell_type": "code",
   "execution_count": 4,
   "metadata": {},
   "outputs": [
    {
     "data": {
      "text/plain": [
       "'Mungkin mereka lupa, presiden itu produk politik yang mengakar dari partai politik. Kalau seorang presiden mendukung kader yang diusung partai politiknya, lalu salahnya dimana?  This is how politics works!'"
      ]
     },
     "execution_count": 4,
     "metadata": {},
     "output_type": "execute_result"
    }
   ],
   "source": [
    "df['text'][0]"
   ]
  },
  {
   "cell_type": "markdown",
   "metadata": {},
   "source": [
    "### EDA"
   ]
  },
  {
   "cell_type": "code",
   "execution_count": 5,
   "metadata": {},
   "outputs": [
    {
     "name": "stdout",
     "output_type": "stream",
     "text": [
      "Class counts:\n",
      "sarcasm\n",
      "0    2200\n",
      "1    2200\n",
      "Name: count, dtype: int64\n"
     ]
    }
   ],
   "source": [
    "class_counts = df['sarcasm'].value_counts()\n",
    "\n",
    "print(\"Class counts:\")\n",
    "print(class_counts)"
   ]
  },
  {
   "cell_type": "code",
   "execution_count": 12,
   "metadata": {},
   "outputs": [
    {
     "data": {
      "image/png": "[encoded data removed]",
      "text/plain": [
       "<Figure size 400x300 with 1 Axes>"
      ]
     },
     "metadata": {},
     "output_type": "display_data"
    }
   ],
   "source": [
    "class_counts = df['sarcasm'].value_counts()\n",
    "\n",
    "# Create a bar chart\n",
    "plt.figure(figsize=(4, 3))\n",
    "sns.barplot(x=class_counts.index, y=class_counts.values, palette=\"Purples\")\n",
    "plt.title(\"Class Distribution\", fontsize=12)\n",
    "plt.xlabel(\"Class\", fontsize=12)\n",
    "plt.ylabel(\"Count\", fontsize=12)\n",
    "plt.xticks(rotation=0)\n",
    "plt.show()"
   ]
  },
  {
   "cell_type": "markdown",
   "metadata": {},
   "source": [
    "### Preprocessing"
   ]
  },
  {
   "cell_type": "code",
   "execution_count": 18,
   "metadata": {},
   "outputs": [
    {
     "name": "stdout",
     "output_type": "stream",
     "text": [
      "Requirement already satisfied: indoNLP in c:\\users\\ajeng\\anaconda3\\lib\\site-packages (0.3.4)\n"
     ]
    }
   ],
   "source": [
    "!pip install indoNLP"
   ]
  },
  {
   "cell_type": "code",
   "execution_count": 24,
   "metadata": {},
   "outputs": [],
   "source": [
    "from indoNLP.preprocessing import replace_slang\n",
    "import re"
   ]
  },
  {
   "cell_type": "code",
   "execution_count": 1,
   "metadata": {},
   "outputs": [],
   "source": [
    "# Normalize whitespace and convert to lowercase\n",
    "\n",
    "def lower_text(text):\n",
    "    text = ' '.join(text.split()).lower()\n",
    "\n",
    "    return text"
   ]
  },
  {
   "cell_type": "code",
   "execution_count": 3,
   "metadata": {},
   "outputs": [],
   "source": [
    "# Expand Repeated Words\n",
    "\n",
    "def expand_repeated_words(text):\n",
    "    pattern = re.compile(r'\\b([a-zA-Z]+)(\\d)\\b')\n",
    "    \n",
    "    def replace_match(match):\n",
    "        word, number = match.groups()\n",
    "        return f\"{word}-{word}\" if number == \"2\" else match.group(0)\n",
    "    \n",
    "    return pattern.sub(replace_match, text)"
   ]
  },
  {
   "cell_type": "code",
   "execution_count": 46,
   "metadata": {},
   "outputs": [],
   "source": [
    "df['preprocessed_text'] = df['text'].apply(lower_text)\n",
    "df['preprocessed_text'] = df['preprocessed_text'].apply(expand_repeated_words)\n",
    "df['preprocessed_text'] = df['preprocessed_text'].apply(replace_slang)"
   ]
  },
  {
   "cell_type": "code",
   "execution_count": 47,
   "metadata": {},
   "outputs": [
    {
     "data": {
      "text/plain": [
       "'anies itu jujur sedang ngibul. dedy tau maka ia mengakak. mungkin yang dimaksud anies bio safety lab adalah tugu peti mati ayo tertawa ayo tertawa'"
      ]
     },
     "execution_count": 47,
     "metadata": {},
     "output_type": "execute_result"
    }
   ],
   "source": [
    "df['preprocessed_text'][24]"
   ]
  },
  {
   "cell_type": "markdown",
   "metadata": {},
   "source": [
    "### Download New Dataset"
   ]
  },
  {
   "cell_type": "code",
   "execution_count": 50,
   "metadata": {},
   "outputs": [
    {
     "name": "stdout",
     "output_type": "stream",
     "text": [
      "File saved as ./Dataset/dataset_sarkasme_new.xlsx\n"
     ]
    }
   ],
   "source": [
    "# Select only the needed columns\n",
    "new_df = df[['preprocessed_text', 'sarcasm']]\n",
    "\n",
    "# Save to an Excel file\n",
    "file_path = \"./Dataset/dataset_sarkasme_new.xlsx\"\n",
    "new_df.to_excel(file_path, index=False)\n",
    "\n",
    "print(f\"File saved as {file_path}\")"
   ]
  }
 ],
 "metadata": {
  "kernelspec": {
   "display_name": "base",
   "language": "python",
   "name": "python3"
  },
  "language_info": {
   "codemirror_mode": {
    "name": "ipython",
    "version": 3
   },
   "file_extension": ".py",
   "mimetype": "text/x-python",
   "name": "python",
   "nbconvert_exporter": "python",
   "pygments_lexer": "ipython3",
   "version": "3.11.5"
  }
 },
 "nbformat": 4,
 "nbformat_minor": 2
}
